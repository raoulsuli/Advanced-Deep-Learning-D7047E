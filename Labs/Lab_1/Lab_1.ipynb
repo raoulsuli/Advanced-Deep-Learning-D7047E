{
  "nbformat": 4,
  "nbformat_minor": 0,
  "metadata": {
    "colab": {
      "provenance": [],
      "gpuType": "T4",
      "toc_visible": true
    },
    "kernelspec": {
      "name": "python3",
      "display_name": "Python 3"
    },
    "language_info": {
      "name": "python"
    },
    "accelerator": "GPU",
    "widgets": {
      "application/vnd.jupyter.widget-state+json": {
        "7b3b6b2f2b4f4510aa2df07e4381ca63": {
          "model_module": "@jupyter-widgets/output",
          "model_name": "OutputModel",
          "model_module_version": "1.0.0",
          "state": {
            "_dom_classes": [],
            "_model_module": "@jupyter-widgets/output",
            "_model_module_version": "1.0.0",
            "_model_name": "OutputModel",
            "_view_count": null,
            "_view_module": "@jupyter-widgets/output",
            "_view_module_version": "1.0.0",
            "_view_name": "OutputView",
            "layout": "IPY_MODEL_6917249f24c34e7380ba2e800ca52269",
            "msg_id": "",
            "outputs": [
              {
                "output_type": "stream",
                "name": "stdout",
                "text": [
                  "> How are you feeling?\n"
                ]
              },
              {
                "output_type": "stream",
                "name": "stdout",
                "text": [
                  "Quite good!\n",
                  ">I'm glad you feel that way!\n"
                ]
              },
              {
                "output_type": "stream",
                "name": "stdout",
                "text": [
                  "Actually I lied. I am a bit sad.\n",
                  ">I'm sorry you're upset, let’s try to make things right.\n"
                ]
              }
            ]
          }
        },
        "6917249f24c34e7380ba2e800ca52269": {
          "model_module": "@jupyter-widgets/base",
          "model_name": "LayoutModel",
          "model_module_version": "1.2.0",
          "state": {
            "_model_module": "@jupyter-widgets/base",
            "_model_module_version": "1.2.0",
            "_model_name": "LayoutModel",
            "_view_count": null,
            "_view_module": "@jupyter-widgets/base",
            "_view_module_version": "1.2.0",
            "_view_name": "LayoutView",
            "align_content": null,
            "align_items": null,
            "align_self": null,
            "border": null,
            "bottom": null,
            "display": null,
            "flex": null,
            "flex_flow": null,
            "grid_area": null,
            "grid_auto_columns": null,
            "grid_auto_flow": null,
            "grid_auto_rows": null,
            "grid_column": null,
            "grid_gap": null,
            "grid_row": null,
            "grid_template_areas": null,
            "grid_template_columns": null,
            "grid_template_rows": null,
            "height": null,
            "justify_content": null,
            "justify_items": null,
            "left": null,
            "margin": null,
            "max_height": null,
            "max_width": null,
            "min_height": null,
            "min_width": null,
            "object_fit": null,
            "object_position": null,
            "order": null,
            "overflow": null,
            "overflow_x": null,
            "overflow_y": null,
            "padding": null,
            "right": null,
            "top": null,
            "visibility": null,
            "width": null
          }
        },
        "4e88a99904e84cca9b5c1a75874172c8": {
          "model_module": "@jupyter-widgets/controls",
          "model_name": "HBoxModel",
          "model_module_version": "1.5.0",
          "state": {
            "_dom_classes": [],
            "_model_module": "@jupyter-widgets/controls",
            "_model_module_version": "1.5.0",
            "_model_name": "HBoxModel",
            "_view_count": null,
            "_view_module": "@jupyter-widgets/controls",
            "_view_module_version": "1.5.0",
            "_view_name": "HBoxView",
            "box_style": "",
            "children": [
              "IPY_MODEL_1cee782ef670403fa7a9050d59215f3e",
              "IPY_MODEL_cf14559abb8e442db22017d9b2641849"
            ],
            "layout": "IPY_MODEL_2222ce98f3d14d75bfb6e925c4cc4ec9"
          }
        },
        "1cee782ef670403fa7a9050d59215f3e": {
          "model_module": "@jupyter-widgets/controls",
          "model_name": "TextModel",
          "model_module_version": "1.5.0",
          "state": {
            "_dom_classes": [],
            "_model_module": "@jupyter-widgets/controls",
            "_model_module_version": "1.5.0",
            "_model_name": "TextModel",
            "_view_count": null,
            "_view_module": "@jupyter-widgets/controls",
            "_view_module_version": "1.5.0",
            "_view_name": "TextView",
            "continuous_update": true,
            "description": "",
            "description_tooltip": null,
            "disabled": false,
            "layout": "IPY_MODEL_fdb026772d244b74aab35d7f0c5a8b1b",
            "placeholder": "Type here...",
            "style": "IPY_MODEL_449e27900bf2493e9424981c98ce27f7",
            "value": ""
          }
        },
        "cf14559abb8e442db22017d9b2641849": {
          "model_module": "@jupyter-widgets/controls",
          "model_name": "ButtonModel",
          "model_module_version": "1.5.0",
          "state": {
            "_dom_classes": [],
            "_model_module": "@jupyter-widgets/controls",
            "_model_module_version": "1.5.0",
            "_model_name": "ButtonModel",
            "_view_count": null,
            "_view_module": "@jupyter-widgets/controls",
            "_view_module_version": "1.5.0",
            "_view_name": "ButtonView",
            "button_style": "",
            "description": "Submit",
            "disabled": false,
            "icon": "",
            "layout": "IPY_MODEL_1a46d359592546bfb3827c2ca5d6cfef",
            "style": "IPY_MODEL_5689ae07ada34a1bbc74964b072fe7ba",
            "tooltip": ""
          }
        },
        "2222ce98f3d14d75bfb6e925c4cc4ec9": {
          "model_module": "@jupyter-widgets/base",
          "model_name": "LayoutModel",
          "model_module_version": "1.2.0",
          "state": {
            "_model_module": "@jupyter-widgets/base",
            "_model_module_version": "1.2.0",
            "_model_name": "LayoutModel",
            "_view_count": null,
            "_view_module": "@jupyter-widgets/base",
            "_view_module_version": "1.2.0",
            "_view_name": "LayoutView",
            "align_content": null,
            "align_items": null,
            "align_self": null,
            "border": null,
            "bottom": null,
            "display": null,
            "flex": null,
            "flex_flow": null,
            "grid_area": null,
            "grid_auto_columns": null,
            "grid_auto_flow": null,
            "grid_auto_rows": null,
            "grid_column": null,
            "grid_gap": null,
            "grid_row": null,
            "grid_template_areas": null,
            "grid_template_columns": null,
            "grid_template_rows": null,
            "height": null,
            "justify_content": null,
            "justify_items": null,
            "left": null,
            "margin": null,
            "max_height": null,
            "max_width": null,
            "min_height": null,
            "min_width": null,
            "object_fit": null,
            "object_position": null,
            "order": null,
            "overflow": null,
            "overflow_x": null,
            "overflow_y": null,
            "padding": null,
            "right": null,
            "top": null,
            "visibility": null,
            "width": null
          }
        },
        "fdb026772d244b74aab35d7f0c5a8b1b": {
          "model_module": "@jupyter-widgets/base",
          "model_name": "LayoutModel",
          "model_module_version": "1.2.0",
          "state": {
            "_model_module": "@jupyter-widgets/base",
            "_model_module_version": "1.2.0",
            "_model_name": "LayoutModel",
            "_view_count": null,
            "_view_module": "@jupyter-widgets/base",
            "_view_module_version": "1.2.0",
            "_view_name": "LayoutView",
            "align_content": null,
            "align_items": null,
            "align_self": null,
            "border": null,
            "bottom": null,
            "display": null,
            "flex": null,
            "flex_flow": null,
            "grid_area": null,
            "grid_auto_columns": null,
            "grid_auto_flow": null,
            "grid_auto_rows": null,
            "grid_column": null,
            "grid_gap": null,
            "grid_row": null,
            "grid_template_areas": null,
            "grid_template_columns": null,
            "grid_template_rows": null,
            "height": null,
            "justify_content": null,
            "justify_items": null,
            "left": null,
            "margin": null,
            "max_height": null,
            "max_width": null,
            "min_height": null,
            "min_width": null,
            "object_fit": null,
            "object_position": null,
            "order": null,
            "overflow": null,
            "overflow_x": null,
            "overflow_y": null,
            "padding": null,
            "right": null,
            "top": null,
            "visibility": null,
            "width": null
          }
        },
        "449e27900bf2493e9424981c98ce27f7": {
          "model_module": "@jupyter-widgets/controls",
          "model_name": "DescriptionStyleModel",
          "model_module_version": "1.5.0",
          "state": {
            "_model_module": "@jupyter-widgets/controls",
            "_model_module_version": "1.5.0",
            "_model_name": "DescriptionStyleModel",
            "_view_count": null,
            "_view_module": "@jupyter-widgets/base",
            "_view_module_version": "1.2.0",
            "_view_name": "StyleView",
            "description_width": ""
          }
        },
        "1a46d359592546bfb3827c2ca5d6cfef": {
          "model_module": "@jupyter-widgets/base",
          "model_name": "LayoutModel",
          "model_module_version": "1.2.0",
          "state": {
            "_model_module": "@jupyter-widgets/base",
            "_model_module_version": "1.2.0",
            "_model_name": "LayoutModel",
            "_view_count": null,
            "_view_module": "@jupyter-widgets/base",
            "_view_module_version": "1.2.0",
            "_view_name": "LayoutView",
            "align_content": null,
            "align_items": null,
            "align_self": null,
            "border": null,
            "bottom": null,
            "display": null,
            "flex": null,
            "flex_flow": null,
            "grid_area": null,
            "grid_auto_columns": null,
            "grid_auto_flow": null,
            "grid_auto_rows": null,
            "grid_column": null,
            "grid_gap": null,
            "grid_row": null,
            "grid_template_areas": null,
            "grid_template_columns": null,
            "grid_template_rows": null,
            "height": null,
            "justify_content": null,
            "justify_items": null,
            "left": null,
            "margin": null,
            "max_height": null,
            "max_width": null,
            "min_height": null,
            "min_width": null,
            "object_fit": null,
            "object_position": null,
            "order": null,
            "overflow": null,
            "overflow_x": null,
            "overflow_y": null,
            "padding": null,
            "right": null,
            "top": null,
            "visibility": null,
            "width": null
          }
        },
        "5689ae07ada34a1bbc74964b072fe7ba": {
          "model_module": "@jupyter-widgets/controls",
          "model_name": "ButtonStyleModel",
          "model_module_version": "1.5.0",
          "state": {
            "_model_module": "@jupyter-widgets/controls",
            "_model_module_version": "1.5.0",
            "_model_name": "ButtonStyleModel",
            "_view_count": null,
            "_view_module": "@jupyter-widgets/base",
            "_view_module_version": "1.2.0",
            "_view_name": "StyleView",
            "button_color": null,
            "font_weight": ""
          }
        }
      }
    }
  },
  "cells": [
    {
      "cell_type": "markdown",
      "source": [
        "# Advanced Deep Learning (D7047E) - Lab 1"
      ],
      "metadata": {
        "id": "xlJArnowX1VD"
      }
    },
    {
      "cell_type": "markdown",
      "source": [
        "## Imports"
      ],
      "metadata": {
        "id": "O8OVoAyJX4LC"
      }
    },
    {
      "cell_type": "code",
      "source": [
        "%%capture\n",
        "\n",
        "import os\n",
        "import math\n",
        "import nltk\n",
        "import torch\n",
        "import random\n",
        "\n",
        "import numpy as np\n",
        "import pandas as pd\n",
        "import ipywidgets as widgets\n",
        "import matplotlib.pyplot as plt\n",
        "\n",
        "import torch.nn as nn\n",
        "import torch.optim as optim\n",
        "import torch.nn.functional as F\n",
        "\n",
        "from tempfile import TemporaryDirectory\n",
        "\n",
        "from nltk import word_tokenize\n",
        "from nltk.corpus import stopwords\n",
        "\n",
        "from IPython.display import display\n",
        "\n",
        "from torch import FloatTensor, LongTensor\n",
        "\n",
        "from sklearn.model_selection import train_test_split\n",
        "from sklearn.feature_extraction.text import TfidfVectorizer\n",
        "\n",
        "from torchtext.data.utils import get_tokenizer\n",
        "from torchtext.vocab import build_vocab_from_iterator\n",
        "\n",
        "nltk.download('punkt', quiet=True)\n",
        "nltk.download('stopwords', quiet=True)"
      ],
      "metadata": {
        "id": "ePC6ILRNX5Zd"
      },
      "execution_count": 2,
      "outputs": []
    },
    {
      "cell_type": "markdown",
      "source": [
        "## Task 1 - ANN for Sentiment Analysis"
      ],
      "metadata": {
        "id": "f8wZpIyAYQNG"
      }
    },
    {
      "cell_type": "markdown",
      "source": [
        "### Dataset Initialization"
      ],
      "metadata": {
        "id": "_3-MCETzYTOC"
      }
    },
    {
      "cell_type": "code",
      "source": [
        "dataset = pd.read_csv(\n",
        "    \"amazon_cells_labelled.txt\",\n",
        "    names=['Sentence', 'Class'],\n",
        "    delimiter='\\t'\n",
        ")"
      ],
      "metadata": {
        "id": "VwYZ8gxuYVph"
      },
      "execution_count": null,
      "outputs": []
    },
    {
      "cell_type": "markdown",
      "source": [
        "### Preprocessing"
      ],
      "metadata": {
        "id": "tbHfR9tYbBne"
      }
    },
    {
      "cell_type": "markdown",
      "source": [
        "#### Format Reviews"
      ],
      "metadata": {
        "id": "sdy0YT3voh9m"
      }
    },
    {
      "cell_type": "code",
      "source": [
        "# Lowercase\n",
        "dataset['Sentence'] = dataset['Sentence'].str.lower()\n",
        "\n",
        "# Remove stopwords\n",
        "dataset['Sentence'] = dataset['Sentence'].apply(\n",
        "    lambda row: \" \".join([\n",
        "        w\n",
        "        for w in word_tokenize(row)\n",
        "        if w not in stopwords.words('english')\n",
        "    ])\n",
        ")\n",
        "\n",
        "# Remove everything that is not a letter or whitespace\n",
        "dataset['Sentence'] = dataset['Sentence'].replace('[^a-z ]+', ' ', regex=True)\n",
        "\n",
        "# Remove multiple whitespaces\n",
        "dataset['Sentence'] = dataset['Sentence'].replace(' +', ' ', regex=True)\n",
        "\n",
        "# Strip whitespace\n",
        "dataset['Sentence'] = dataset['Sentence'].str.strip()"
      ],
      "metadata": {
        "id": "gJwwKggUbDc7"
      },
      "execution_count": null,
      "outputs": []
    },
    {
      "cell_type": "markdown",
      "source": [
        "#### Split into Training & Validation"
      ],
      "metadata": {
        "id": "W04Ii7xEokWe"
      }
    },
    {
      "cell_type": "code",
      "source": [
        "X_train, X_val, y_train, y_val = train_test_split(\n",
        "    dataset['Sentence'].values.astype('U'),\n",
        "    dataset['Class'].values.astype('int32'),\n",
        "    train_size=0.9,\n",
        "    random_state=45,\n",
        "    shuffle=True\n",
        ")"
      ],
      "metadata": {
        "id": "EPOcp8zyon_S"
      },
      "execution_count": null,
      "outputs": []
    },
    {
      "cell_type": "markdown",
      "source": [
        "#### Vectorize"
      ],
      "metadata": {
        "id": "EvKYsxpQp-E1"
      }
    },
    {
      "cell_type": "code",
      "source": [
        "word_vectorizer = TfidfVectorizer(\n",
        "    analyzer='word',\n",
        "    ngram_range=(1,2),\n",
        "    max_features=50000,\n",
        "    max_df=0.5,\n",
        "    use_idf=True,\n",
        "    norm='l2'\n",
        ")\n",
        "\n",
        "# Transforms texts into matrices\n",
        "X_train_vectorized = word_vectorizer.fit_transform(X_train).todense()\n",
        "X_val_vectorized = word_vectorizer.transform(X_val).todense()"
      ],
      "metadata": {
        "id": "U--A_fgDp_-b"
      },
      "execution_count": null,
      "outputs": []
    },
    {
      "cell_type": "markdown",
      "source": [
        "#### Convert to Tensors"
      ],
      "metadata": {
        "id": "SBSx7kNjq8pF"
      }
    },
    {
      "cell_type": "code",
      "source": [
        "X_train_tensor = FloatTensor(X_train_vectorized)\n",
        "X_val_tensor = FloatTensor(X_val_vectorized)\n",
        "\n",
        "y_train_tensor = LongTensor(y_train)\n",
        "y_val_tensor = LongTensor(y_val)"
      ],
      "metadata": {
        "id": "vayF45VarA1k"
      },
      "execution_count": null,
      "outputs": []
    },
    {
      "cell_type": "markdown",
      "source": [
        "### Network Initialization"
      ],
      "metadata": {
        "id": "bWXYXKW6rp0l"
      }
    },
    {
      "cell_type": "code",
      "source": [
        "NUM_EPOCHS = 100\n",
        "\n",
        "# Sizes\n",
        "input_size = len(word_vectorizer.vocabulary_)\n",
        "output_size = 2\n",
        "\n",
        "# Model\n",
        "model = nn.Sequential(\n",
        "    nn.Linear(input_size, 256),\n",
        "    nn.ReLU(),\n",
        "    nn.Linear(256, output_size)\n",
        ")\n",
        "\n",
        "# Optimizer\n",
        "optimizer = optim.Adam(model.parameters())\n",
        "\n",
        "# Loss Function\n",
        "criterion = nn.CrossEntropyLoss()"
      ],
      "metadata": {
        "id": "JTORcrg_rq2c"
      },
      "execution_count": null,
      "outputs": []
    },
    {
      "cell_type": "markdown",
      "source": [
        "### Training"
      ],
      "metadata": {
        "id": "yUvAE6YbtiOf"
      }
    },
    {
      "cell_type": "markdown",
      "source": [
        "#### Implementation"
      ],
      "metadata": {
        "id": "VXdRiQuiSsZk"
      }
    },
    {
      "cell_type": "code",
      "source": [
        "losses = []\n",
        "model.train()\n",
        "\n",
        "for epoch in range(NUM_EPOCHS):\n",
        "    optimizer.zero_grad()\n",
        "\n",
        "    y_pred = model(X_train_tensor)\n",
        "\n",
        "    loss = criterion(y_pred, y_train_tensor)\n",
        "    loss.backward()\n",
        "\n",
        "    optimizer.step()\n",
        "\n",
        "    losses.append(loss.item())"
      ],
      "metadata": {
        "id": "222DNAMrtjW3"
      },
      "execution_count": null,
      "outputs": []
    },
    {
      "cell_type": "markdown",
      "source": [
        "#### Plotting Loss Per Epoch"
      ],
      "metadata": {
        "id": "jdVRemQ9SulW"
      }
    },
    {
      "cell_type": "code",
      "source": [
        "plt.plot(losses)\n",
        "\n",
        "plt.xlabel('Epoch')\n",
        "plt.ylabel('Loss')\n",
        "\n",
        "plt.title('Training Loss')\n",
        "\n",
        "plt.show()"
      ],
      "metadata": {
        "colab": {
          "base_uri": "https://localhost:8080/",
          "height": 472
        },
        "id": "AiiN-MyWSwu5",
        "outputId": "09d454e5-6b84-436a-d9a3-798de51f1f4e"
      },
      "execution_count": null,
      "outputs": [
        {
          "output_type": "display_data",
          "data": {
            "text/plain": [
              "<Figure size 640x480 with 1 Axes>"
            ],
            "image/png": "[encoded data removed]"
          },
          "metadata": {}
        }
      ]
    },
    {
      "cell_type": "markdown",
      "source": [
        "### Validation"
      ],
      "metadata": {
        "id": "cYWqXfhESDfD"
      }
    },
    {
      "cell_type": "code",
      "source": [
        "model.eval()\n",
        "\n",
        "with torch.no_grad():\n",
        "    y_pred = model(X_val_tensor)\n",
        "\n",
        "guess = torch.argmax(y_pred, axis=1)\n",
        "no_correct_guesses = (guess == y_val_tensor).sum().item()\n",
        "accuracy = no_correct_guesses * 100 / y_val_tensor.shape[0]\n",
        "\n",
        "print(f\"Validation Accuracy: {round(accuracy, 2)}%\")"
      ],
      "metadata": {
        "colab": {
          "base_uri": "https://localhost:8080/"
        },
        "id": "yf_Z4ZEvSF0f",
        "outputId": "da006d1a-0176-4911-87cb-42817e27f9d3"
      },
      "execution_count": null,
      "outputs": [
        {
          "output_type": "stream",
          "name": "stdout",
          "text": [
            "Validation Accuracy: 82.0%\n"
          ]
        }
      ]
    },
    {
      "cell_type": "markdown",
      "source": [
        "### Testing the Chatbot"
      ],
      "metadata": {
        "id": "gYSOu5B1VUlI"
      }
    },
    {
      "cell_type": "markdown",
      "source": [
        "#### Possible Responses"
      ],
      "metadata": {
        "id": "Q_iNpY7EVzAr"
      }
    },
    {
      "cell_type": "code",
      "source": [
        "positive_responses = [\n",
        "    \"That's great to hear!\",\n",
        "    \"I'm glad you feel that way!\"\n",
        "]\n",
        "\n",
        "negative_responses = [\n",
        "    \"I'm sorry to hear that.\",\n",
        "    \"I'm sorry you're upset, let’s try to make things right.\"\n",
        "]\n",
        "\n",
        "def get_response(user_input):\n",
        "    intent = get_intent(user_input)\n",
        "    responses_chosen = positive_responses if intent == 1 else negative_responses\n",
        "\n",
        "    return random.choice(responses_chosen)\n",
        "\n",
        "def get_intent(user_input):\n",
        "    text_vectorized = word_vectorizer.transform([user_input]).todense()\n",
        "    text_tensor = FloatTensor(text_vectorized)\n",
        "\n",
        "    with torch.no_grad():\n",
        "        output = model(text_tensor)\n",
        "        guess = torch.argmax(output, dim=1).item()\n",
        "\n",
        "    return guess"
      ],
      "metadata": {
        "id": "0EWzRGUYVX8P"
      },
      "execution_count": null,
      "outputs": []
    },
    {
      "cell_type": "markdown",
      "source": [
        "#### Prompt the User"
      ],
      "metadata": {
        "id": "jOGeqWgpWO_l"
      }
    },
    {
      "cell_type": "code",
      "source": [
        "chat_output = widgets.Output()\n",
        "text_input = widgets.Text(placeholder=\"Type here...\")\n",
        "submit_button = widgets.Button(description=\"Submit\")\n",
        "\n",
        "with chat_output:\n",
        "    print(\"> How are you feeling?\")\n",
        "\n",
        "def on_submit(b):\n",
        "    user_input = text_input.value\n",
        "    text_input.value = \"\"\n",
        "\n",
        "    if user_input.strip():\n",
        "        with chat_output:\n",
        "            print(f\"{user_input}\")\n",
        "            print(\">\" + get_response(user_input))\n",
        "\n",
        "submit_button.on_click(on_submit)\n",
        "text_input.on_submit(on_submit)\n",
        "\n",
        "input_box = widgets.HBox([text_input, submit_button])\n",
        "display(chat_output, input_box)"
      ],
      "metadata": {
        "colab": {
          "base_uri": "https://localhost:8080/",
          "height": 136,
          "referenced_widgets": [
            "7b3b6b2f2b4f4510aa2df07e4381ca63",
            "6917249f24c34e7380ba2e800ca52269",
            "4e88a99904e84cca9b5c1a75874172c8",
            "1cee782ef670403fa7a9050d59215f3e",
            "cf14559abb8e442db22017d9b2641849",
            "2222ce98f3d14d75bfb6e925c4cc4ec9",
            "fdb026772d244b74aab35d7f0c5a8b1b",
            "449e27900bf2493e9424981c98ce27f7",
            "1a46d359592546bfb3827c2ca5d6cfef",
            "5689ae07ada34a1bbc74964b072fe7ba"
          ]
        },
        "id": "mhq-pLaUWRCy",
        "outputId": "09e17bc4-d098-46e5-9151-c2a79637b6a6"
      },
      "execution_count": null,
      "outputs": [
        {
          "output_type": "display_data",
          "data": {
            "text/plain": [
              "Output()"
            ],
            "application/vnd.jupyter.widget-view+json": {
              "version_major": 2,
              "version_minor": 0,
              "model_id": "7b3b6b2f2b4f4510aa2df07e4381ca63"
            }
          },
          "metadata": {}
        },
        {
          "output_type": "display_data",
          "data": {
            "text/plain": [
              "HBox(children=(Text(value='', placeholder='Type here...'), Button(description='Submit', style=ButtonStyle())))"
            ],
            "application/vnd.jupyter.widget-view+json": {
              "version_major": 2,
              "version_minor": 0,
              "model_id": "4e88a99904e84cca9b5c1a75874172c8"
            }
          },
          "metadata": {}
        }
      ]
    },
    {
      "cell_type": "markdown",
      "source": [
        "## Task 2 - Next Word Prediction with Transformer"
      ],
      "metadata": {
        "id": "DEluL18FavER"
      }
    },
    {
      "cell_type": "markdown",
      "source": [
        "### Helpers"
      ],
      "metadata": {
        "id": "y33Cuv9XaTC9"
      }
    },
    {
      "cell_type": "markdown",
      "source": [
        "#### GPU Device"
      ],
      "metadata": {
        "id": "vNe3j6NgaWJ6"
      }
    },
    {
      "cell_type": "code",
      "source": [
        "device = torch.device('cuda' if torch.cuda.is_available() else 'cpu')"
      ],
      "metadata": {
        "id": "YHudxUA7aYu-"
      },
      "execution_count": 3,
      "outputs": []
    },
    {
      "cell_type": "markdown",
      "source": [
        "#### Positional Encoding"
      ],
      "metadata": {
        "id": "WreYRqDnai1l"
      }
    },
    {
      "cell_type": "code",
      "source": [
        "class PositionalEncoding(nn.Module):\n",
        "    def __init__(self, d_model, dropout = 0.1, max_len = 5000):\n",
        "        super().__init__()\n",
        "\n",
        "        self.dropout = nn.Dropout(p=dropout)\n",
        "\n",
        "        position = torch.arange(max_len).unsqueeze(1)\n",
        "        div_term = torch.exp(\n",
        "            torch.arange(0, d_model, 2) * (-math.log(10000.0) / d_model)\n",
        "        )\n",
        "\n",
        "        pe = torch.zeros(max_len, 1, d_model)\n",
        "        pe[:, 0, 0::2] = torch.sin(position * div_term)\n",
        "        pe[:, 0, 1::2] = torch.cos(position * div_term)\n",
        "\n",
        "        self.register_buffer('pe', pe)\n",
        "\n",
        "    def forward(self, x):\n",
        "        x = x + self.pe[:x.shape[0]]\n",
        "\n",
        "        return self.dropout(x)"
      ],
      "metadata": {
        "id": "Dqw_DFxUak07"
      },
      "execution_count": 4,
      "outputs": []
    },
    {
      "cell_type": "markdown",
      "source": [
        "#### Model Class"
      ],
      "metadata": {
        "id": "hNdo5AeUXyqP"
      }
    },
    {
      "cell_type": "code",
      "source": [
        "class TransformerModel(nn.Module):\n",
        "    def __init__(self, ntoken, d_model, nhead, d_hid, nlayers, dropout = 0.5):\n",
        "        super().__init__()\n",
        "\n",
        "        self.model_type = 'Transformer'\n",
        "        self.d_model = d_model\n",
        "\n",
        "        self.pos_encoder = PositionalEncoding(d_model, dropout)\n",
        "\n",
        "        encoder_layers = nn.TransformerEncoderLayer(\n",
        "            d_model,\n",
        "            nhead,\n",
        "            d_hid,\n",
        "            dropout,\n",
        "            device=device\n",
        "        )\n",
        "\n",
        "        self.transformer_encoder = nn.TransformerEncoder(\n",
        "            encoder_layers,\n",
        "            nlayers,\n",
        "            enable_nested_tensor=False\n",
        "        )\n",
        "\n",
        "        self.linear = nn.Linear(d_model, ntoken)\n",
        "        self.embedding = nn.Embedding(ntoken, d_model)\n",
        "\n",
        "        # Weights\n",
        "        initrange = 0.1\n",
        "        self.embedding.weight.data.uniform_(-initrange, initrange)\n",
        "\n",
        "        self.linear.bias.data.zero_()\n",
        "        self.linear.weight.data.uniform_(-initrange, initrange)\n",
        "\n",
        "    def forward(self, src, src_mask = None):\n",
        "        src = self.embedding(src) * math.sqrt(self.d_model)\n",
        "        src = self.pos_encoder(src)\n",
        "\n",
        "        if src_mask is None:\n",
        "            \"\"\"\n",
        "                Generate a square causal mask for the sequence.\n",
        "                The masked positions are filled with float('-inf').\n",
        "                Unmasked positions are filled with float(0.0).\n",
        "            \"\"\"\n",
        "\n",
        "            src_mask = nn.Transformer.generate_square_subsequent_mask(len(src))\n",
        "            src_mask.to(device)\n",
        "\n",
        "        output = self.transformer_encoder(src, src_mask)\n",
        "\n",
        "        return self.linear(output)"
      ],
      "metadata": {
        "id": "68WmwjYgX0fY"
      },
      "execution_count": 5,
      "outputs": []
    },
    {
      "cell_type": "markdown",
      "source": [
        "#### Processing and Batching"
      ],
      "metadata": {
        "id": "JpAM599udaaT"
      }
    },
    {
      "cell_type": "code",
      "source": [
        "bptt = 35\n",
        "tokenizer = get_tokenizer('basic_english')\n",
        "\n",
        "def data_process(raw_text_iter, vocab):\n",
        "    \"\"\"Converts raw text into a flat Tensor.\"\"\"\n",
        "\n",
        "    data = [\n",
        "        torch.tensor(vocab(tokenizer(item)), dtype=torch.long)\n",
        "        for item in raw_text_iter\n",
        "    ]\n",
        "\n",
        "    return torch.cat(tuple(filter(lambda t: t.numel() > 0, data)))\n",
        "\n",
        "def batchify(data, bsz):\n",
        "    \"\"\"\n",
        "        Divides the data into ``bsz`` separate sequencesremoving extra elements\n",
        "    that wouldn't cleanly fit.\n",
        "\n",
        "    Arguments:\n",
        "        data: Tensor, shape ``[N]``\n",
        "        bsz: int, batch size\n",
        "\n",
        "    Returns:\n",
        "        Tensor of shape ``[N // bsz, bsz]``\n",
        "    \"\"\"\n",
        "\n",
        "    seq_len = data.shape[0] // bsz\n",
        "\n",
        "    data = data[:seq_len * bsz]\n",
        "    data = data.view(bsz, seq_len).t().contiguous()\n",
        "\n",
        "    return data.to(device)\n",
        "\n",
        "def get_batch(source, i):\n",
        "    seq_len = min(bptt, len(source) - 1 - i)\n",
        "\n",
        "    data = source[i:i+seq_len]\n",
        "    target = source[i+1:i+1+seq_len].reshape(-1)\n",
        "\n",
        "    return data, target"
      ],
      "metadata": {
        "id": "W7i1xKFadcEi"
      },
      "execution_count": 6,
      "outputs": []
    },
    {
      "cell_type": "markdown",
      "source": [
        "### Dataset Initialization"
      ],
      "metadata": {
        "id": "3L7FwPGCcNUr"
      }
    },
    {
      "cell_type": "code",
      "source": [
        "batch_size = 20\n",
        "eval_batch_size = 10\n",
        "\n",
        "with open(\"wiki.train.txt\") as f:\n",
        "    train_data = f.read()\n",
        "\n",
        "with open(\"wiki.valid.txt\") as f:\n",
        "    valid_data = f.read()\n",
        "\n",
        "with open(\"wiki.test.txt\") as f:\n",
        "    test_data = f.read()\n",
        "\n",
        "vocab = build_vocab_from_iterator(\n",
        "    map(tokenizer, train_data),\n",
        "    specials=['<unk>']\n",
        ")\n",
        "\n",
        "vocab.set_default_index(vocab['<unk>'])\n",
        "\n",
        "X_train = data_process(train_data, vocab)\n",
        "X_val = data_process(valid_data, vocab)\n",
        "X_test = data_process(test_data, vocab)\n",
        "\n",
        "# X shape: ``[seq_len, batch_size]``\n",
        "X_train = batchify(X_train, batch_size)\n",
        "X_val = batchify(X_val, eval_batch_size)\n",
        "X_test = batchify(X_test, eval_batch_size)"
      ],
      "metadata": {
        "id": "_dWCHio2cPBj"
      },
      "execution_count": 7,
      "outputs": []
    },
    {
      "cell_type": "markdown",
      "source": [
        "### Network Initialization"
      ],
      "metadata": {
        "id": "R_jcXx-sdyrv"
      }
    },
    {
      "cell_type": "code",
      "source": [
        "# Size of Vocabulary\n",
        "ntokens = len(vocab)\n",
        "\n",
        "# Embedding Dimension\n",
        "emsize = 200\n",
        "\n",
        "# Dimension for FFNN in TransformerDecoder\n",
        "d_hid = 200\n",
        "\n",
        "# Number of Layers in TransformerEncoder\n",
        "nlayers = 2\n",
        "\n",
        "# Number of heads in Multi-Head Attention\n",
        "nhead = 2\n",
        "\n",
        "# Dropout Rate\n",
        "dropout = 0.2\n",
        "\n",
        "# Model\n",
        "model = TransformerModel(ntokens, emsize, nhead, d_hid, nlayers, dropout)\n",
        "model.to(device)\n",
        "\n",
        "criterion = nn.CrossEntropyLoss()\n",
        "optimizer = torch.optim.SGD(model.parameters(), lr=5.0)\n",
        "scheduler = torch.optim.lr_scheduler.StepLR(optimizer, 1.0, gamma=0.95)"
      ],
      "metadata": {
        "id": "NUHcI18Ad0i8"
      },
      "execution_count": 8,
      "outputs": []
    },
    {
      "cell_type": "markdown",
      "source": [
        "### Training & Validation"
      ],
      "metadata": {
        "id": "MeDiVc_yoc3x"
      }
    },
    {
      "cell_type": "markdown",
      "source": [
        "#### Implementation"
      ],
      "metadata": {
        "id": "MclS1zx4vZDc"
      }
    },
    {
      "cell_type": "code",
      "source": [
        "NUM_EPOCHS = 10\n",
        "best_validation_loss = float('inf')\n",
        "train_losses, validation_losses = [], []\n",
        "\n",
        "with TemporaryDirectory() as temp_dir:\n",
        "    best_model_params_path = os.path.join(temp_dir, \"best_model_params.pt\")\n",
        "\n",
        "    for epoch in range(NUM_EPOCHS):\n",
        "        train_loss = val_loss = 0\n",
        "        model.train()\n",
        "\n",
        "        for i in range(0, X_train.shape[0] - 1, bptt):\n",
        "            optimizer.zero_grad()\n",
        "\n",
        "            data, targets = get_batch(X_train, i)\n",
        "            output = model(data).view(-1, ntokens)\n",
        "\n",
        "            loss = criterion(output, targets)\n",
        "            loss.backward()\n",
        "\n",
        "            train_loss += data.shape[0] * loss.item()\n",
        "\n",
        "            torch.nn.utils.clip_grad_norm_(model.parameters(), 0.5)\n",
        "\n",
        "            optimizer.step()\n",
        "\n",
        "        scheduler.step()\n",
        "\n",
        "        model.eval()\n",
        "\n",
        "        with torch.no_grad():\n",
        "            for i in range(0, X_val.shape[0] - 1, bptt):\n",
        "                data, targets = get_batch(X_val, i)\n",
        "                output = model(data).view(-1, ntokens)\n",
        "\n",
        "                loss = criterion(output, targets).item()\n",
        "                val_loss += data.shape[0] * loss\n",
        "\n",
        "        train_loss_per_epoch = train_loss / (X_train.shape[0] - 1)\n",
        "        val_loss_per_epoch = val_loss / (X_val.shape[0] - 1)\n",
        "\n",
        "        train_losses.append(train_loss_per_epoch)\n",
        "        validation_losses.append(val_loss_per_epoch)\n",
        "\n",
        "        if val_loss_per_epoch < best_validation_loss:\n",
        "            best_validation_loss = val_loss_per_epoch\n",
        "\n",
        "            # Save best model\n",
        "            torch.save(model.state_dict(), best_model_params_path)\n",
        "\n",
        "    # Load best model\n",
        "    model.load_state_dict(torch.load(best_model_params_path))"
      ],
      "metadata": {
        "id": "bqU8HIysodwk"
      },
      "execution_count": 9,
      "outputs": []
    },
    {
      "cell_type": "markdown",
      "source": [
        "#### Plotting Losses Per Epoch"
      ],
      "metadata": {
        "id": "CaC1UrgGva9E"
      }
    },
    {
      "cell_type": "code",
      "source": [
        "plt.plot(train_losses, label='Training')\n",
        "plt.plot(validation_losses, label='Validation')\n",
        "\n",
        "plt.xlabel('Epoch')\n",
        "plt.ylabel('Loss')\n",
        "\n",
        "plt.title('Losses Per Epoch')\n",
        "plt.legend()\n",
        "\n",
        "plt.xticks(ticks=range(NUM_EPOCHS), labels=range(1, NUM_EPOCHS + 1))\n",
        "\n",
        "plt.show()"
      ],
      "metadata": {
        "colab": {
          "base_uri": "https://localhost:8080/",
          "height": 472
        },
        "id": "T_fUnMLGvcVm",
        "outputId": "54afb962-cb98-4fc8-fe75-a033de6162bf"
      },
      "execution_count": 10,
      "outputs": [
        {
          "output_type": "display_data",
          "data": {
            "text/plain": [
              "<Figure size 640x480 with 1 Axes>"
            ],
            "image/png": "[encoded data removed]"
          },
          "metadata": {}
        }
      ]
    },
    {
      "cell_type": "markdown",
      "source": [
        "### Testing"
      ],
      "metadata": {
        "id": "waAU_ewDokPK"
      }
    },
    {
      "cell_type": "code",
      "source": [
        "no_correct_guesses = no_total_guesses = 0\n",
        "model.eval()\n",
        "\n",
        "with torch.no_grad():\n",
        "    for i in range(0, X_test.shape[0] - 1, bptt):\n",
        "        data, targets = get_batch(X_test, i)\n",
        "        output = model(data).view(-1, ntokens)\n",
        "\n",
        "        guesses = torch.argmax(output, axis = 1)\n",
        "        no_correct_guesses += (guesses == targets).sum().item()\n",
        "        no_total_guesses += targets.shape[0]\n",
        "\n",
        "accuracy = round((no_correct_guesses * 100) / no_total_guesses, 2)\n",
        "print(f\"Test Accuracy: {accuracy}%\")"
      ],
      "metadata": {
        "colab": {
          "base_uri": "https://localhost:8080/"
        },
        "id": "Gpk1qlxKolGF",
        "outputId": "98b09581-7de1-4422-a536-11937808f002"
      },
      "execution_count": 25,
      "outputs": [
        {
          "output_type": "stream",
          "name": "stdout",
          "text": [
            "Test Accuracy: 28.71%\n"
          ]
        }
      ]
    },
    {
      "cell_type": "markdown",
      "source": [
        "## Task 3 - Comparing the two methods"
      ],
      "metadata": {
        "id": "QqifRFAXasvF"
      }
    },
    {
      "cell_type": "markdown",
      "source": [
        "The performance for the ANN is much higher (82%) compared to the Transformer (28%).\n",
        "\n",
        "This is due to the following:\n",
        "- large amount of time needed to train the Transformer properly\n",
        "- complexity of the Transformer network\n",
        "- complexity of the task (the ANN tries to classify sentences into positive/negative while the Transformer tries to generate sequences)"
      ],
      "metadata": {
        "id": "hP9E6eBkarbt"
      }
    }
  ]
}